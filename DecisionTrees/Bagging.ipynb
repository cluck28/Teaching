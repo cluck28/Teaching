{
 "cells": [
  {
   "cell_type": "markdown",
   "id": "487ef8b6",
   "metadata": {},
   "source": [
    "<h1>Bagging and Random Forests</h1>"
   ]
  },
  {
   "cell_type": "markdown",
   "id": "ea35a39b",
   "metadata": {},
   "source": [
    "We'll start introducing emsemble models using decision trees. The premise behind ensemble models is to use a series of weak learners and combine them in such a way that they become a strong learner. "
   ]
  },
  {
   "cell_type": "markdown",
   "id": "5c9be3ac",
   "metadata": {},
   "source": [
    "<h2>Bootstrapping and Bagging</h2>"
   ]
  },
  {
   "cell_type": "markdown",
   "id": "357f9191",
   "metadata": {},
   "source": [
    "There is a sampling technique called bootstrapping where you repeatedly choose a subset of data and calculate a property based on that subset. You then repeat the sampling process and average the calculations of the property together. In this way you average out the variance from your sample across these computations."
   ]
  },
  {
   "cell_type": "markdown",
   "id": "a31a7e4f",
   "metadata": {},
   "source": [
    "This effectively leads us to Bagging, where we train a set of predictive models and then average their predictions:\n",
    "$$f_{avg}(X) = \\frac{1}{B}\\sum \\hat{f}_i(X)$$"
   ]
  },
  {
   "cell_type": "markdown",
   "id": "d606ecf8",
   "metadata": {},
   "source": [
    "In most cases we train each $i$th model on a set of bootstrapped data (a subsample of the whole dataset)."
   ]
  },
  {
   "cell_type": "markdown",
   "id": "2661eeba",
   "metadata": {},
   "source": [
    "For trees, our bagging algorithm would be as follows:\n",
    "- create a sub-sample of the data using bootstrapping\n",
    "- train a decision tree without pruning\n",
    "- repeat for $i$ sub-samples\n",
    "- average together the individual decision trees"
   ]
  },
  {
   "cell_type": "markdown",
   "id": "b48926fe",
   "metadata": {},
   "source": [
    "Because each of the trees is grown deep, they have high variance. Averaging will reduce the variance and create a less overfit prediction."
   ]
  },
  {
   "cell_type": "markdown",
   "id": "72344b8b",
   "metadata": {},
   "source": [
    "Let's see this in practice:"
   ]
  },
  {
   "cell_type": "code",
   "execution_count": 13,
   "id": "6e748efd",
   "metadata": {},
   "outputs": [],
   "source": [
    "import pandas as pd\n",
    "import matplotlib.pyplot as plt"
   ]
  },
  {
   "cell_type": "code",
   "execution_count": 14,
   "id": "e9cdd5f9",
   "metadata": {},
   "outputs": [
    {
     "name": "stdout",
     "output_type": "stream",
     "text": [
      "(303, 14)\n"
     ]
    },
    {
     "data": {
      "text/html": [
       "<div>\n",
       "<style scoped>\n",
       "    .dataframe tbody tr th:only-of-type {\n",
       "        vertical-align: middle;\n",
       "    }\n",
       "\n",
       "    .dataframe tbody tr th {\n",
       "        vertical-align: top;\n",
       "    }\n",
       "\n",
       "    .dataframe thead th {\n",
       "        text-align: right;\n",
       "    }\n",
       "</style>\n",
       "<table border=\"1\" class=\"dataframe\">\n",
       "  <thead>\n",
       "    <tr style=\"text-align: right;\">\n",
       "      <th></th>\n",
       "      <th>age</th>\n",
       "      <th>sex</th>\n",
       "      <th>cp</th>\n",
       "      <th>trtbps</th>\n",
       "      <th>chol</th>\n",
       "      <th>fbs</th>\n",
       "      <th>restecg</th>\n",
       "      <th>thalachh</th>\n",
       "      <th>exng</th>\n",
       "      <th>oldpeak</th>\n",
       "      <th>slp</th>\n",
       "      <th>caa</th>\n",
       "      <th>thall</th>\n",
       "      <th>output</th>\n",
       "    </tr>\n",
       "  </thead>\n",
       "  <tbody>\n",
       "    <tr>\n",
       "      <th>0</th>\n",
       "      <td>63</td>\n",
       "      <td>1</td>\n",
       "      <td>3</td>\n",
       "      <td>145</td>\n",
       "      <td>233</td>\n",
       "      <td>1</td>\n",
       "      <td>0</td>\n",
       "      <td>150</td>\n",
       "      <td>0</td>\n",
       "      <td>2.3</td>\n",
       "      <td>0</td>\n",
       "      <td>0</td>\n",
       "      <td>1</td>\n",
       "      <td>1</td>\n",
       "    </tr>\n",
       "    <tr>\n",
       "      <th>1</th>\n",
       "      <td>37</td>\n",
       "      <td>1</td>\n",
       "      <td>2</td>\n",
       "      <td>130</td>\n",
       "      <td>250</td>\n",
       "      <td>0</td>\n",
       "      <td>1</td>\n",
       "      <td>187</td>\n",
       "      <td>0</td>\n",
       "      <td>3.5</td>\n",
       "      <td>0</td>\n",
       "      <td>0</td>\n",
       "      <td>2</td>\n",
       "      <td>1</td>\n",
       "    </tr>\n",
       "    <tr>\n",
       "      <th>2</th>\n",
       "      <td>41</td>\n",
       "      <td>0</td>\n",
       "      <td>1</td>\n",
       "      <td>130</td>\n",
       "      <td>204</td>\n",
       "      <td>0</td>\n",
       "      <td>0</td>\n",
       "      <td>172</td>\n",
       "      <td>0</td>\n",
       "      <td>1.4</td>\n",
       "      <td>2</td>\n",
       "      <td>0</td>\n",
       "      <td>2</td>\n",
       "      <td>1</td>\n",
       "    </tr>\n",
       "    <tr>\n",
       "      <th>3</th>\n",
       "      <td>56</td>\n",
       "      <td>1</td>\n",
       "      <td>1</td>\n",
       "      <td>120</td>\n",
       "      <td>236</td>\n",
       "      <td>0</td>\n",
       "      <td>1</td>\n",
       "      <td>178</td>\n",
       "      <td>0</td>\n",
       "      <td>0.8</td>\n",
       "      <td>2</td>\n",
       "      <td>0</td>\n",
       "      <td>2</td>\n",
       "      <td>1</td>\n",
       "    </tr>\n",
       "    <tr>\n",
       "      <th>4</th>\n",
       "      <td>57</td>\n",
       "      <td>0</td>\n",
       "      <td>0</td>\n",
       "      <td>120</td>\n",
       "      <td>354</td>\n",
       "      <td>0</td>\n",
       "      <td>1</td>\n",
       "      <td>163</td>\n",
       "      <td>1</td>\n",
       "      <td>0.6</td>\n",
       "      <td>2</td>\n",
       "      <td>0</td>\n",
       "      <td>2</td>\n",
       "      <td>1</td>\n",
       "    </tr>\n",
       "  </tbody>\n",
       "</table>\n",
       "</div>"
      ],
      "text/plain": [
       "   age  sex  cp  trtbps  chol  fbs  restecg  thalachh  exng  oldpeak  slp  \\\n",
       "0   63    1   3     145   233    1        0       150     0      2.3    0   \n",
       "1   37    1   2     130   250    0        1       187     0      3.5    0   \n",
       "2   41    0   1     130   204    0        0       172     0      1.4    2   \n",
       "3   56    1   1     120   236    0        1       178     0      0.8    2   \n",
       "4   57    0   0     120   354    0        1       163     1      0.6    2   \n",
       "\n",
       "   caa  thall  output  \n",
       "0    0      1       1  \n",
       "1    0      2       1  \n",
       "2    0      2       1  \n",
       "3    0      2       1  \n",
       "4    0      2       1  "
      ]
     },
     "execution_count": 14,
     "metadata": {},
     "output_type": "execute_result"
    }
   ],
   "source": [
    "df = pd.read_csv(\"heart.csv\")\n",
    "print(df.shape)\n",
    "df.head()"
   ]
  },
  {
   "cell_type": "code",
   "execution_count": 15,
   "id": "6d5f0af3",
   "metadata": {},
   "outputs": [
    {
     "data": {
      "image/png": "[encoded data removed]",
      "text/plain": [
       "<Figure size 432x288 with 1 Axes>"
      ]
     },
     "metadata": {
      "needs_background": "light"
     },
     "output_type": "display_data"
    }
   ],
   "source": [
    "plt.scatter(df['age'],df['sex'],c=df['output'])\n",
    "plt.xlabel(\"AGE\")\n",
    "plt.ylabel(\"SEX\")\n",
    "plt.show()"
   ]
  },
  {
   "cell_type": "code",
   "execution_count": 16,
   "id": "f060c9a2",
   "metadata": {},
   "outputs": [
    {
     "data": {
      "image/png": "[encoded data removed]",
      "text/plain": [
       "<Figure size 432x288 with 1 Axes>"
      ]
     },
     "metadata": {
      "needs_background": "light"
     },
     "output_type": "display_data"
    }
   ],
   "source": [
    "plt.scatter(df['trtbps'],df['chol'],c=df['output'])\n",
    "plt.xlabel(\"TRTBPS\")\n",
    "plt.ylabel(\"CHOL\")\n",
    "plt.show()"
   ]
  },
  {
   "cell_type": "markdown",
   "id": "3110f7d6",
   "metadata": {},
   "source": [
    "From these cursory looks at the data we can probably draw linear decision boundaries the way that trees do!"
   ]
  },
  {
   "cell_type": "markdown",
   "id": "74201cf7",
   "metadata": {},
   "source": [
    "Let's start with one tree:"
   ]
  },
  {
   "cell_type": "code",
   "execution_count": 17,
   "id": "5e69e3d4",
   "metadata": {},
   "outputs": [],
   "source": [
    "from sklearn.tree import DecisionTreeClassifier\n",
    "from sklearn.model_selection import train_test_split\n",
    "from sklearn.metrics import accuracy_score\n",
    "from sklearn.utils import resample"
   ]
  },
  {
   "cell_type": "code",
   "execution_count": 18,
   "id": "3ed7c674",
   "metadata": {},
   "outputs": [],
   "source": [
    "y = df['output']\n",
    "X = df.drop('output', axis=1)\n",
    "X_train, X_test, y_train, y_test = train_test_split(X,y,test_size=0.3,random_state=42)"
   ]
  },
  {
   "cell_type": "markdown",
   "id": "3e3e1d4a",
   "metadata": {},
   "source": [
    "For one tree we get the following accuracy:"
   ]
  },
  {
   "cell_type": "code",
   "execution_count": 29,
   "id": "8d6c7785",
   "metadata": {},
   "outputs": [
    {
     "name": "stdout",
     "output_type": "stream",
     "text": [
      "0.7362637362637363\n"
     ]
    }
   ],
   "source": [
    "clf = DecisionTreeClassifier(splitter='random')\n",
    "clf.fit(X_train, y_train)\n",
    "y_pred = clf.predict(X_test)\n",
    "print(accuracy_score(y_test, y_pred))"
   ]
  },
  {
   "cell_type": "markdown",
   "id": "cf546a59",
   "metadata": {},
   "source": [
    "What happens if we train 100 trees on 100 different subsets of data?"
   ]
  },
  {
   "cell_type": "code",
   "execution_count": 32,
   "id": "d85bdd32",
   "metadata": {},
   "outputs": [
    {
     "data": {
      "image/png": "[encoded data removed]",
      "text/plain": [
       "<Figure size 432x288 with 1 Axes>"
      ]
     },
     "metadata": {
      "needs_background": "light"
     },
     "output_type": "display_data"
    }
   ],
   "source": [
    "accuracy_scores = []\n",
    "for i in range(100):\n",
    "    X_train_sub, y_train_sub = resample(X_train, y_train, replace=False, n_samples=100)\n",
    "    clf = DecisionTreeClassifier(max_depth=3)\n",
    "    clf.fit(X_train_sub, y_train_sub)\n",
    "    y_pred = clf.predict(X_test)\n",
    "    accuracy_scores.append(accuracy_score(y_test, y_pred))\n",
    "plt.plot(range(100), accuracy_scores, 'b.')\n",
    "plt.xlabel('Training Instance')\n",
    "plt.ylabel('Accuracy of Tree')\n",
    "plt.show()"
   ]
  },
  {
   "cell_type": "code",
   "execution_count": 33,
   "id": "4422a93e",
   "metadata": {},
   "outputs": [],
   "source": [
    "final_list = []\n",
    "for j in [1,5,10,20,50,100,250,500,750,1000,2500,5000,7500]:\n",
    "    pred_list = []\n",
    "    for i in range(j):\n",
    "        X_train_sub, y_train_sub = resample(X_train, y_train, replace=False, n_samples=100)\n",
    "        clf = DecisionTreeClassifier()\n",
    "        clf.fit(X_train_sub, y_train_sub)\n",
    "        y_pred = clf.predict(X_test)\n",
    "        pred_list.append(y_pred)\n",
    "    df_preds = pd.DataFrame(pred_list)\n",
    "    y_bagged = round(df_preds.mean(axis=0)).values\n",
    "    final_list.append([j, accuracy_score(y_test, y_bagged)])"
   ]
  },
  {
   "cell_type": "code",
   "execution_count": 34,
   "id": "93e6453c",
   "metadata": {},
   "outputs": [
    {
     "data": {
      "image/png": "[encoded data removed]",
      "text/plain": [
       "<Figure size 432x288 with 1 Axes>"
      ]
     },
     "metadata": {
      "needs_background": "light"
     },
     "output_type": "display_data"
    }
   ],
   "source": [
    "import numpy as np\n",
    "final_array = np.asarray(final_list)\n",
    "plt.plot(final_array[:,0], final_array[:,1], 'b.')\n",
    "plt.xlabel('Number of Trees')\n",
    "plt.ylabel('Accuracy')\n",
    "plt.show()"
   ]
  },
  {
   "cell_type": "markdown",
   "id": "55409df4",
   "metadata": {},
   "source": [
    "We see that the variance is reduced as we increase the number of trees that we average over!"
   ]
  },
  {
   "cell_type": "markdown",
   "id": "7fd49c7c",
   "metadata": {},
   "source": [
    "<h3>Out Of Bag Error Estimation</h3>"
   ]
  },
  {
   "cell_type": "markdown",
   "id": "3297bb38",
   "metadata": {},
   "source": [
    "There's a neat way to estimate the error of a bagged model without having to do cross-validation. One can show (but we won't do it here) that on average a bagged tree only uses 2/3 of the observations in its contstruction. The remaining 1/3 of the data are called \"out of bag observations\". For each tree that didn't use observation $i$ we can make a prediction and average them together. For sufficiently many trees this is a good approximation of the cross-validation error you would obtain. Most packages will have a built in way to find these out of bag observations and estimate the out of bag error."
   ]
  },
  {
   "cell_type": "markdown",
   "id": "d48da58a",
   "metadata": {},
   "source": [
    "<h2>Random Forests</h2>"
   ]
  },
  {
   "cell_type": "markdown",
   "id": "c6feb872",
   "metadata": {},
   "source": [
    "The random forest algorithm uses bagging in a unique way in order to pick the best features to use in order to construct a tree. In addition to bootstrapping the data, we will also choose a subset of the features to construct each tree."
   ]
  },
  {
   "cell_type": "markdown",
   "id": "479ff0bc",
   "metadata": {},
   "source": [
    "The algorithm is as follows:\n",
    "- construct a decision tree using $m$ random features to make the splits\n",
    "- bag a number of these trees using a new random sample of data and a new random sample of features\n",
    "- the final prediction is the average of all the trees"
   ]
  },
  {
   "cell_type": "markdown",
   "id": "19796e5b",
   "metadata": {},
   "source": [
    "We can extend our code now to use a subset of features:"
   ]
  },
  {
   "cell_type": "code",
   "execution_count": 35,
   "id": "b19a0182",
   "metadata": {},
   "outputs": [],
   "source": [
    "rf_list = []\n",
    "for j in [1,5,10,20,50,100,250,500,750,1000,2500,5000,7500]:\n",
    "    pred_list = []\n",
    "    for i in range(j):\n",
    "        X_train_sub, y_train_sub = resample(X_train, y_train, replace=False, n_samples=100)\n",
    "        X_train_sub = X_train_sub.sample(n=4, axis='columns')\n",
    "        X_cols = X_train_sub.columns\n",
    "        clf = DecisionTreeClassifier()\n",
    "        clf.fit(X_train_sub, y_train_sub)\n",
    "        y_pred = clf.predict(X_test[X_cols])\n",
    "        pred_list.append(y_pred)\n",
    "    df_preds = pd.DataFrame(pred_list)\n",
    "    y_bagged = round(df_preds.mean(axis=0)).values\n",
    "    rf_list.append([j, accuracy_score(y_test, y_bagged)])"
   ]
  },
  {
   "cell_type": "code",
   "execution_count": 12,
   "id": "352bf0b2",
   "metadata": {},
   "outputs": [
    {
     "data": {
      "image/png": "[encoded data removed]",
      "text/plain": [
       "<Figure size 432x288 with 1 Axes>"
      ]
     },
     "metadata": {
      "needs_background": "light"
     },
     "output_type": "display_data"
    }
   ],
   "source": [
    "rf_array = np.asarray(rf_list)\n",
    "plt.plot(rf_array[:,0], rf_array[:,1], 'b.')\n",
    "plt.xlabel('Number of Trees')\n",
    "plt.ylabel('Accuracy')\n",
    "plt.show()"
   ]
  },
  {
   "cell_type": "markdown",
   "id": "cce56be0",
   "metadata": {},
   "source": [
    "Why does this seem to work?"
   ]
  },
  {
   "cell_type": "markdown",
   "id": "25e44178",
   "metadata": {},
   "source": [
    "If you remember back to how we construct our trees, we take a greedy approach. This means that we will always look for the feature to split on that maximizes the information gain at the top of the tree. By limiting the set of features that can be used we force our algorithm to try \"less optimal\" trees. This means our trees will be less correlated with each other, reduce variance, and provide more reliable predictions."
   ]
  },
  {
   "cell_type": "code",
   "execution_count": null,
   "id": "524469d6",
   "metadata": {},
   "outputs": [],
   "source": []
  }
 ],
 "metadata": {
  "kernelspec": {
   "display_name": "Python 3 (ipykernel)",
   "language": "python",
   "name": "python3"
  },
  "language_info": {
   "codemirror_mode": {
    "name": "ipython",
    "version": 3
   },
   "file_extension": ".py",
   "mimetype": "text/x-python",
   "name": "python",
   "nbconvert_exporter": "python",
   "pygments_lexer": "ipython3",
   "version": "3.8.13"
  }
 },
 "nbformat": 4,
 "nbformat_minor": 5
}
