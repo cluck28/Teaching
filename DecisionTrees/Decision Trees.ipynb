{
 "cells": [
  {
   "cell_type": "markdown",
   "id": "17b78b51",
   "metadata": {},
   "source": [
    "<h1>Introducing Decision Trees</h1>"
   ]
  },
  {
   "cell_type": "markdown",
   "id": "f50ad0a8",
   "metadata": {},
   "source": [
    "The basic idea of decision trees is to use some simple segmentations of the feature space in order to produce accurate and interpretable predictions. We'll start by reviewing the basics of Decision Trees and then introduce ways to combine single decision trees into ensembles to produce more accurate predictions."
   ]
  },
  {
   "cell_type": "markdown",
   "id": "7e0f63d6",
   "metadata": {},
   "source": [
    "<h2>Regression Trees</h2>"
   ]
  },
  {
   "cell_type": "markdown",
   "id": "2e7542f8",
   "metadata": {},
   "source": [
    "When faced with the task of predicting a continuous variable we may choose to use a regression tree. In contrast to linear regression, a regression tree will make the claim that if variable $X_1$ satisfies some criteria the outcome is more likely to be near some value $\\hat{y}$ -- in linear regression would would say a change in $X_1$ results in a proportionate change in the outcome $\\hat{y}$."
   ]
  },
  {
   "cell_type": "markdown",
   "id": "cfe96332",
   "metadata": {},
   "source": [
    "In a decision tree we are effectively asking:\n",
    "- if $X_1$ satisfies condition $z_1$:\n",
    "    - if $X_2$ satisfies condition $z_2$:\n",
    "        - ...\n",
    "- else:\n",
    "    - ..."
   ]
  },
  {
   "cell_type": "markdown",
   "id": "b681589b",
   "metadata": {},
   "source": [
    "We can visualize the decision making logic in a tree:"
   ]
  },
  {
   "cell_type": "code",
   "execution_count": 1,
   "id": "8802e7e0",
   "metadata": {},
   "outputs": [
    {
     "name": "stdout",
     "output_type": "stream",
     "text": [
      "All Data\n",
      "├── X_1 <= z_1\n",
      "│   ├── X_3 <= z_3\n",
      "│   └── X_3 > z_3\n",
      "└── X_1 > z_1\n",
      "    ├── X_2 <= z_2\n",
      "    └── X_2 > z_2\n",
      "        └── ...\n",
      "\n"
     ]
    }
   ],
   "source": [
    "from treelib import Node, Tree\n",
    "\n",
    "tree = Tree()\n",
    "\n",
    "tree.create_node(\"All Data\", \"node1\")  # No parent means its the root node\n",
    "tree.create_node(\"X_1 > z_1\",  \"node2_1\"   , parent=\"node1\")\n",
    "tree.create_node(\"X_1 <= z_1\",  \"node2_2\"   , parent=\"node1\")\n",
    "tree.create_node(\"X_2 > z_2\", \"node3_1\", parent=\"node2_1\")\n",
    "tree.create_node(\"X_2 <= z_2\", \"node3_2\", parent=\"node2_1\")\n",
    "tree.create_node(\"X_3 > z_3\", \"node3_3\", parent=\"node2_2\")\n",
    "tree.create_node(\"X_3 <= z_3\", \"node3_4\", parent=\"node2_2\")\n",
    "tree.create_node(\"...\", \"node4_1\", parent=\"node3_1\")\n",
    "tree.show()"
   ]
  },
  {
   "cell_type": "markdown",
   "id": "c1dc4c6f",
   "metadata": {},
   "source": [
    "In the feature space of this problem these decisions amount to creating a set of $J$ partitions, where each outcome $\\hat{y}$ lies in one of the partitions."
   ]
  },
  {
   "cell_type": "code",
   "execution_count": 1,
   "id": "809d63c5",
   "metadata": {},
   "outputs": [
    {
     "data": {
      "image/png": "[encoded data removed]",
      "text/plain": [
       "<Figure size 720x360 with 1 Axes>"
      ]
     },
     "metadata": {
      "needs_background": "light"
     },
     "output_type": "display_data"
    }
   ],
   "source": [
    "import matplotlib.pyplot as plt\n",
    "import numpy as np\n",
    "\n",
    "x = np.arange(0, 10, 0.01)\n",
    "y = np.arange(0, 10, 0.01)\n",
    "x_plot = np.random.choice(x, size=100, replace=False)\n",
    "y_plot = np.random.choice(y, size=100, replace=False)\n",
    "\n",
    "# specifying the plot size\n",
    "plt.figure(figsize = (10, 5))\n",
    " \n",
    "# only one line may be specified; full height\n",
    "plt.axvline(x = 7, color = 'b')\n",
    "plt.axvline(x = 3, color = 'b')\n",
    "plt.axhline(y = 1, color = 'r')\n",
    "plt.axhline(y = 5, color = 'r')\n",
    "plt.plot(x_plot, y_plot, 'g.')\n",
    " \n",
    "# rendering plot\n",
    "plt.xlim(0,10)\n",
    "plt.ylim(0,10)\n",
    "plt.show()"
   ]
  },
  {
   "cell_type": "markdown",
   "id": "8887197f",
   "metadata": {},
   "source": [
    "Given this partition, how would we make a prediction for a new value?\n",
    "\n",
    "We could just predict the mean of the values contained in the partition."
   ]
  },
  {
   "cell_type": "markdown",
   "id": "4792c912",
   "metadata": {},
   "source": [
    "Now that we know the goal (to partition the feature space) how do we go about picking the best partitions?"
   ]
  },
  {
   "cell_type": "markdown",
   "id": "efac9016",
   "metadata": {},
   "source": [
    "As with our other models, we'll construct a loss function and attempt to optimize it:\n",
    "$$ RSS = \\sum_j\\sum_i (y_i - \\hat{y}_{R_j})^2$$\n",
    "where $R_j$ is the $j$th partition and $i$ is the data point."
   ]
  },
  {
   "cell_type": "markdown",
   "id": "befdb27d",
   "metadata": {},
   "source": [
    "We can take a naive approach to this problem and perform a grid serach over all of the possible partitions. BUT this will be incredibly slow -- if you thought linear regression was bad, this is worse (we have the feature and the decision criteria we need to search over).\n",
    "\n",
    "In fact, we could pick an infinite number of decision criteria and construct arbitrarily many partitions. Clearly, we need a \"smart\" approach to partitioning the feature space so that we can arrive at a good enough solution."
   ]
  },
  {
   "cell_type": "markdown",
   "id": "c5d66246",
   "metadata": {},
   "source": [
    "We will use a recursive, \"top-down\", and greedy approach to finding the optimal partitions:\n",
    "- construct one partition that minimizes the $RSS$\n",
    "- from those nodes/leafs, construct the next partition\n",
    "\n",
    "In each step we are optimizing for creating the next partition such that it provides the greatest reduction in RSS. In this approach we need to select two parameters in each step -- the feature $X_i$ that we use and the decision criteria $z_j$. We will also need to introduce a stopping criteria -- a way to make it so our algorithm terminates -- so that we don't arrive at an overfit solution (partitions that are too small, contain too few points, etc)."
   ]
  },
  {
   "cell_type": "markdown",
   "id": "fd4d2b6d",
   "metadata": {},
   "source": [
    "Let's see how this works in practice:"
   ]
  },
  {
   "cell_type": "code",
   "execution_count": 2,
   "id": "0f3d66e6",
   "metadata": {},
   "outputs": [
    {
     "data": {
      "text/html": [
       "<div>\n",
       "<style scoped>\n",
       "    .dataframe tbody tr th:only-of-type {\n",
       "        vertical-align: middle;\n",
       "    }\n",
       "\n",
       "    .dataframe tbody tr th {\n",
       "        vertical-align: top;\n",
       "    }\n",
       "\n",
       "    .dataframe thead th {\n",
       "        text-align: right;\n",
       "    }\n",
       "</style>\n",
       "<table border=\"1\" class=\"dataframe\">\n",
       "  <thead>\n",
       "    <tr style=\"text-align: right;\">\n",
       "      <th></th>\n",
       "      <th>car_ID</th>\n",
       "      <th>symboling</th>\n",
       "      <th>CarName</th>\n",
       "      <th>fueltype</th>\n",
       "      <th>aspiration</th>\n",
       "      <th>doornumber</th>\n",
       "      <th>carbody</th>\n",
       "      <th>drivewheel</th>\n",
       "      <th>enginelocation</th>\n",
       "      <th>wheelbase</th>\n",
       "      <th>...</th>\n",
       "      <th>enginesize</th>\n",
       "      <th>fuelsystem</th>\n",
       "      <th>boreratio</th>\n",
       "      <th>stroke</th>\n",
       "      <th>compressionratio</th>\n",
       "      <th>horsepower</th>\n",
       "      <th>peakrpm</th>\n",
       "      <th>citympg</th>\n",
       "      <th>highwaympg</th>\n",
       "      <th>price</th>\n",
       "    </tr>\n",
       "  </thead>\n",
       "  <tbody>\n",
       "    <tr>\n",
       "      <th>0</th>\n",
       "      <td>1</td>\n",
       "      <td>3</td>\n",
       "      <td>alfa-romero giulia</td>\n",
       "      <td>gas</td>\n",
       "      <td>std</td>\n",
       "      <td>two</td>\n",
       "      <td>convertible</td>\n",
       "      <td>rwd</td>\n",
       "      <td>front</td>\n",
       "      <td>88.6</td>\n",
       "      <td>...</td>\n",
       "      <td>130</td>\n",
       "      <td>mpfi</td>\n",
       "      <td>3.47</td>\n",
       "      <td>2.68</td>\n",
       "      <td>9.0</td>\n",
       "      <td>111</td>\n",
       "      <td>5000</td>\n",
       "      <td>21</td>\n",
       "      <td>27</td>\n",
       "      <td>13495.0</td>\n",
       "    </tr>\n",
       "    <tr>\n",
       "      <th>1</th>\n",
       "      <td>2</td>\n",
       "      <td>3</td>\n",
       "      <td>alfa-romero stelvio</td>\n",
       "      <td>gas</td>\n",
       "      <td>std</td>\n",
       "      <td>two</td>\n",
       "      <td>convertible</td>\n",
       "      <td>rwd</td>\n",
       "      <td>front</td>\n",
       "      <td>88.6</td>\n",
       "      <td>...</td>\n",
       "      <td>130</td>\n",
       "      <td>mpfi</td>\n",
       "      <td>3.47</td>\n",
       "      <td>2.68</td>\n",
       "      <td>9.0</td>\n",
       "      <td>111</td>\n",
       "      <td>5000</td>\n",
       "      <td>21</td>\n",
       "      <td>27</td>\n",
       "      <td>16500.0</td>\n",
       "    </tr>\n",
       "    <tr>\n",
       "      <th>2</th>\n",
       "      <td>3</td>\n",
       "      <td>1</td>\n",
       "      <td>alfa-romero Quadrifoglio</td>\n",
       "      <td>gas</td>\n",
       "      <td>std</td>\n",
       "      <td>two</td>\n",
       "      <td>hatchback</td>\n",
       "      <td>rwd</td>\n",
       "      <td>front</td>\n",
       "      <td>94.5</td>\n",
       "      <td>...</td>\n",
       "      <td>152</td>\n",
       "      <td>mpfi</td>\n",
       "      <td>2.68</td>\n",
       "      <td>3.47</td>\n",
       "      <td>9.0</td>\n",
       "      <td>154</td>\n",
       "      <td>5000</td>\n",
       "      <td>19</td>\n",
       "      <td>26</td>\n",
       "      <td>16500.0</td>\n",
       "    </tr>\n",
       "    <tr>\n",
       "      <th>3</th>\n",
       "      <td>4</td>\n",
       "      <td>2</td>\n",
       "      <td>audi 100 ls</td>\n",
       "      <td>gas</td>\n",
       "      <td>std</td>\n",
       "      <td>four</td>\n",
       "      <td>sedan</td>\n",
       "      <td>fwd</td>\n",
       "      <td>front</td>\n",
       "      <td>99.8</td>\n",
       "      <td>...</td>\n",
       "      <td>109</td>\n",
       "      <td>mpfi</td>\n",
       "      <td>3.19</td>\n",
       "      <td>3.40</td>\n",
       "      <td>10.0</td>\n",
       "      <td>102</td>\n",
       "      <td>5500</td>\n",
       "      <td>24</td>\n",
       "      <td>30</td>\n",
       "      <td>13950.0</td>\n",
       "    </tr>\n",
       "    <tr>\n",
       "      <th>4</th>\n",
       "      <td>5</td>\n",
       "      <td>2</td>\n",
       "      <td>audi 100ls</td>\n",
       "      <td>gas</td>\n",
       "      <td>std</td>\n",
       "      <td>four</td>\n",
       "      <td>sedan</td>\n",
       "      <td>4wd</td>\n",
       "      <td>front</td>\n",
       "      <td>99.4</td>\n",
       "      <td>...</td>\n",
       "      <td>136</td>\n",
       "      <td>mpfi</td>\n",
       "      <td>3.19</td>\n",
       "      <td>3.40</td>\n",
       "      <td>8.0</td>\n",
       "      <td>115</td>\n",
       "      <td>5500</td>\n",
       "      <td>18</td>\n",
       "      <td>22</td>\n",
       "      <td>17450.0</td>\n",
       "    </tr>\n",
       "  </tbody>\n",
       "</table>\n",
       "<p>5 rows × 26 columns</p>\n",
       "</div>"
      ],
      "text/plain": [
       "   car_ID  symboling                   CarName fueltype aspiration doornumber  \\\n",
       "0       1          3        alfa-romero giulia      gas        std        two   \n",
       "1       2          3       alfa-romero stelvio      gas        std        two   \n",
       "2       3          1  alfa-romero Quadrifoglio      gas        std        two   \n",
       "3       4          2               audi 100 ls      gas        std       four   \n",
       "4       5          2                audi 100ls      gas        std       four   \n",
       "\n",
       "       carbody drivewheel enginelocation  wheelbase  ...  enginesize  \\\n",
       "0  convertible        rwd          front       88.6  ...         130   \n",
       "1  convertible        rwd          front       88.6  ...         130   \n",
       "2    hatchback        rwd          front       94.5  ...         152   \n",
       "3        sedan        fwd          front       99.8  ...         109   \n",
       "4        sedan        4wd          front       99.4  ...         136   \n",
       "\n",
       "   fuelsystem  boreratio  stroke compressionratio horsepower  peakrpm citympg  \\\n",
       "0        mpfi       3.47    2.68              9.0        111     5000      21   \n",
       "1        mpfi       3.47    2.68              9.0        111     5000      21   \n",
       "2        mpfi       2.68    3.47              9.0        154     5000      19   \n",
       "3        mpfi       3.19    3.40             10.0        102     5500      24   \n",
       "4        mpfi       3.19    3.40              8.0        115     5500      18   \n",
       "\n",
       "   highwaympg    price  \n",
       "0          27  13495.0  \n",
       "1          27  16500.0  \n",
       "2          26  16500.0  \n",
       "3          30  13950.0  \n",
       "4          22  17450.0  \n",
       "\n",
       "[5 rows x 26 columns]"
      ]
     },
     "execution_count": 2,
     "metadata": {},
     "output_type": "execute_result"
    }
   ],
   "source": [
    "import pandas as pd\n",
    "import plotly.express as px\n",
    "df = pd.read_csv(\"CarPrice_Assignment.csv\")\n",
    "df.head()"
   ]
  },
  {
   "cell_type": "code",
   "execution_count": 3,
   "id": "7435dbe0",
   "metadata": {},
   "outputs": [
    {
     "data": {
      "text/plain": [
       "car_ID                int64\n",
       "symboling             int64\n",
       "CarName              object\n",
       "fueltype             object\n",
       "aspiration           object\n",
       "doornumber           object\n",
       "carbody              object\n",
       "drivewheel           object\n",
       "enginelocation       object\n",
       "wheelbase           float64\n",
       "carlength           float64\n",
       "carwidth            float64\n",
       "carheight           float64\n",
       "curbweight            int64\n",
       "enginetype           object\n",
       "cylindernumber       object\n",
       "enginesize            int64\n",
       "fuelsystem           object\n",
       "boreratio           float64\n",
       "stroke              float64\n",
       "compressionratio    float64\n",
       "horsepower            int64\n",
       "peakrpm               int64\n",
       "citympg               int64\n",
       "highwaympg            int64\n",
       "price               float64\n",
       "dtype: object"
      ]
     },
     "execution_count": 3,
     "metadata": {},
     "output_type": "execute_result"
    }
   ],
   "source": [
    "df.dtypes"
   ]
  },
  {
   "cell_type": "code",
   "execution_count": 4,
   "id": "67485938",
   "metadata": {},
   "outputs": [
    {
     "name": "stdout",
     "output_type": "stream",
     "text": [
      "205\n",
      "5\n"
     ]
    }
   ],
   "source": [
    "y = np.asarray(df['price'].values)\n",
    "X = np.asarray(df[['wheelbase','carlength','curbweight','enginesize','citympg']].values)\n",
    "print(len(X))\n",
    "print(len(X[0]))"
   ]
  },
  {
   "cell_type": "code",
   "execution_count": 5,
   "id": "18164fea",
   "metadata": {},
   "outputs": [],
   "source": [
    "def RSS_partition(y):\n",
    "    avg_y = np.mean(y)\n",
    "    rss = 0\n",
    "    for i in y:\n",
    "        rss += (i - avg_y)**2\n",
    "    return rss"
   ]
  },
  {
   "cell_type": "code",
   "execution_count": 6,
   "id": "3f50b26d",
   "metadata": {},
   "outputs": [],
   "source": [
    "def create_partition(X, y, split):\n",
    "    y1 = []\n",
    "    y2 = []\n",
    "    for i in range(len(X)):\n",
    "        if X[i] > split:\n",
    "            y1.append(y[i])\n",
    "        else:\n",
    "            y2.append(y[i])\n",
    "    return y1, y2"
   ]
  },
  {
   "cell_type": "code",
   "execution_count": 7,
   "id": "a8523662",
   "metadata": {},
   "outputs": [],
   "source": [
    "def get_splits(X, num_splits):\n",
    "    list_min = np.min(X)\n",
    "    list_max = np.max(X)\n",
    "    return np.arange(list_min, list_max, (list_max-list_min)/num_splits)"
   ]
  },
  {
   "cell_type": "code",
   "execution_count": 8,
   "id": "5626dff8",
   "metadata": {},
   "outputs": [
    {
     "data": {
      "text/html": [
       "<div>\n",
       "<style scoped>\n",
       "    .dataframe tbody tr th:only-of-type {\n",
       "        vertical-align: middle;\n",
       "    }\n",
       "\n",
       "    .dataframe tbody tr th {\n",
       "        vertical-align: top;\n",
       "    }\n",
       "\n",
       "    .dataframe thead th {\n",
       "        text-align: right;\n",
       "    }\n",
       "</style>\n",
       "<table border=\"1\" class=\"dataframe\">\n",
       "  <thead>\n",
       "    <tr style=\"text-align: right;\">\n",
       "      <th></th>\n",
       "      <th>feature</th>\n",
       "      <th>split</th>\n",
       "      <th>rss</th>\n",
       "    </tr>\n",
       "  </thead>\n",
       "  <tbody>\n",
       "    <tr>\n",
       "      <th>35</th>\n",
       "      <td>3</td>\n",
       "      <td>193.5</td>\n",
       "      <td>5.293088e+09</td>\n",
       "    </tr>\n",
       "    <tr>\n",
       "      <th>34</th>\n",
       "      <td>3</td>\n",
       "      <td>167.0</td>\n",
       "      <td>6.012227e+09</td>\n",
       "    </tr>\n",
       "    <tr>\n",
       "      <th>24</th>\n",
       "      <td>2</td>\n",
       "      <td>2519.2</td>\n",
       "      <td>7.080367e+09</td>\n",
       "    </tr>\n",
       "    <tr>\n",
       "      <th>27</th>\n",
       "      <td>2</td>\n",
       "      <td>3292.6</td>\n",
       "      <td>7.161764e+09</td>\n",
       "    </tr>\n",
       "    <tr>\n",
       "      <th>25</th>\n",
       "      <td>2</td>\n",
       "      <td>2777.0</td>\n",
       "      <td>7.203090e+09</td>\n",
       "    </tr>\n",
       "  </tbody>\n",
       "</table>\n",
       "</div>"
      ],
      "text/plain": [
       "    feature   split           rss\n",
       "35        3   193.5  5.293088e+09\n",
       "34        3   167.0  6.012227e+09\n",
       "24        2  2519.2  7.080367e+09\n",
       "27        2  3292.6  7.161764e+09\n",
       "25        2  2777.0  7.203090e+09"
      ]
     },
     "execution_count": 8,
     "metadata": {},
     "output_type": "execute_result"
    }
   ],
   "source": [
    "out_list = []\n",
    "for j in range(len(X[0])):\n",
    "    for i in get_splits(X[:,j], 10):\n",
    "        y1, y2 = create_partition(X[:,j], y, i)\n",
    "        rss = RSS_partition(y1) + RSS_partition(y2)\n",
    "        out_list.append([j,i,rss])\n",
    "df_partition = pd.DataFrame(out_list, columns=['feature','split','rss'])\n",
    "df_partition.sort_values('rss', ascending=True).head()"
   ]
  },
  {
   "cell_type": "markdown",
   "id": "6943d600",
   "metadata": {},
   "source": [
    "We see here the best splits to apply that will reduce the RSS the most. To continue the algorithm we would choose the first split and then run the algorithm on the newly created partitions and continue until we reach the stopping criterion."
   ]
  },
  {
   "cell_type": "markdown",
   "id": "252ea93e",
   "metadata": {},
   "source": [
    "<h2>Classification Trees</h2>"
   ]
  },
  {
   "cell_type": "markdown",
   "id": "9671aa71",
   "metadata": {},
   "source": [
    "The algorithm remains the same for classification, however the metric changes. In classification we want to instead maximize the purity of the partitions. We measure purity qualitatively by looking for partitions where the majority of the points are from one class. We can express this analytically in the Gini index:\n",
    "$$G=\\sum p_{km}(1-p_{km})$$\n",
    "or in the Entropy:\n",
    "$$D=-\\sum p_{km}\\log{p_{km}}$$\n",
    "where $p_{km}$ is the proportion of observations in partition $m$ belonging to class $k$."
   ]
  },
  {
   "cell_type": "markdown",
   "id": "44d5bbb8",
   "metadata": {},
   "source": [
    "<h2>Pruning Trees</h2>"
   ]
  },
  {
   "cell_type": "markdown",
   "id": "8a62f087",
   "metadata": {},
   "source": [
    "Growing trees in this way can lead to good predictions but will also often lead to overfitting. We would like to take advantage of the accuracy we get in the greedy algorithm we've described but allow our trees to generalize more easily. We can accomplish this by a technique called pruning. Effectively we remove splits from our tree to remove some of the bias."
   ]
  },
  {
   "cell_type": "markdown",
   "id": "b87fd428",
   "metadata": {},
   "source": [
    "We will basically remove a node (turn a node into a leaf) creating a series of trees constructed from the original large tree (each sub tree is contained within the original tree). And then we will choose the optimal subtree such that \n",
    "$$ RSS = \\sum_j\\sum_i (y_i - \\hat{y}_{R_j})^2 + \\alpha |T|$$\n",
    "This is similar to regularization in linear regression."
   ]
  },
  {
   "cell_type": "markdown",
   "id": "8777ceac",
   "metadata": {},
   "source": [
    "<h2>Hyperparameters for Decision Trees</h2>"
   ]
  },
  {
   "cell_type": "markdown",
   "id": "add83bbe",
   "metadata": {},
   "source": [
    "In the out of the box implementations of trees there are a number of hyperparameters to choose that specify how the algorithm will grow the tree. In Sklearn, the hyperparameters are (effectively):\n",
    "- max_depth -- how deep to grow the tree\n",
    "- min_samples_split -- how many samples are required in a node in order to split on it\n",
    "- min_samples_leaf -- the minimum number of samples required to be at a leaf node\n",
    "\n",
    "And then other variations on these hyperparameters. The basic idea is that we want to control how many leaf nodes we have in our tree and how many samples are contained within them -- we don't want to just have one observation in the leaf nodes of our tree as that is an example of overfitting.\n"
   ]
  },
  {
   "cell_type": "code",
   "execution_count": null,
   "id": "4ffad17a",
   "metadata": {},
   "outputs": [],
   "source": []
  }
 ],
 "metadata": {
  "kernelspec": {
   "display_name": "Python 3 (ipykernel)",
   "language": "python",
   "name": "python3"
  },
  "language_info": {
   "codemirror_mode": {
    "name": "ipython",
    "version": 3
   },
   "file_extension": ".py",
   "mimetype": "text/x-python",
   "name": "python",
   "nbconvert_exporter": "python",
   "pygments_lexer": "ipython3",
   "version": "3.8.13"
  }
 },
 "nbformat": 4,
 "nbformat_minor": 5
}
