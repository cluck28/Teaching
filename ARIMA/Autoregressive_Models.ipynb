{
 "cells": [
  {
   "cell_type": "markdown",
   "id": "ce8aaa73",
   "metadata": {},
   "source": [
    "<h1>Autoregressive Models</h1>"
   ]
  },
  {
   "cell_type": "markdown",
   "id": "8bee8fbd",
   "metadata": {},
   "source": [
    "In this lesson we will introduce autoregressive models and apply them to time series data."
   ]
  },
  {
   "cell_type": "markdown",
   "id": "7542ffeb",
   "metadata": {},
   "source": [
    "<h2>From Regression to AutoRegression</h2>"
   ]
  },
  {
   "cell_type": "markdown",
   "id": "bedf4055",
   "metadata": {},
   "source": [
    "Up until now we have been ignoring an important aspect of all of the data we have explored -- that they are sampled at a specific point in time! Nearly all of the data you will work with in your career is just a snapshot of a process at a specific instance in time. However, it is often a decent assumption that the data is stationary -- or that the statistical properties of the data do not change in time. This means that if I measure the mean of the distribution today or I measure the mean of the distribution in 24 days from now, I should expect to get the same results. \n",
    "\n",
    "But what happens when this assumption is violated, or when we expect that the time the data is sampled is important to the outcome we are measuring?"
   ]
  },
  {
   "cell_type": "markdown",
   "id": "102caa13",
   "metadata": {},
   "source": [
    "Let's imagine trying to predict the number of new subscribers to a service. Up until now we would treat this as a stationary problem. We might assume that each month the number of subscribers is just given by a dataset for that month that contains information about the customers, the advertising spend, and maybe the marketing spend."
   ]
  },
  {
   "cell_type": "markdown",
   "id": "e48308b9",
   "metadata": {},
   "source": [
    "But what happens if the number of new subscribers changes depending on the point in the year? Say for example that the service you offer is an education product and every year when a new college semester starts you see a lot of additional sign ups? How should we model the dependence on time?"
   ]
  },
  {
   "cell_type": "markdown",
   "id": "d973bf44",
   "metadata": {},
   "source": [
    "In regression we might introduce time to be one of our predictors $X_i$ and extend our model\n",
    "$$y_i = \\beta_0 +\\beta_1 X_1 + ... + \\beta_i X_i$$\n",
    "\n",
    "so that we explicitly force the dependent variable to depend on time in our model."
   ]
  },
  {
   "cell_type": "markdown",
   "id": "5a5ea12a",
   "metadata": {},
   "source": [
    "Do you think this works? Can you see any challenges with this approach?"
   ]
  },
  {
   "cell_type": "markdown",
   "id": "b10719b5",
   "metadata": {},
   "source": [
    "<h2>Autoregression</h2>"
   ]
  },
  {
   "cell_type": "markdown",
   "id": "00656991",
   "metadata": {},
   "source": [
    "We have identified a major issue with using regression. All of the independent variables also depend on the time! Regression will fail to capture this correlation. We can get around this in three different ways:\n",
    "- Use a different algorithm that handles these correlations better (i.e., a tree-based method)\n",
    "- Re-train your model on only the most recent data\n",
    "- Use an autoregressive model"
   ]
  },
  {
   "cell_type": "markdown",
   "id": "70235ea0",
   "metadata": {},
   "source": [
    "We'll focus on autoregressive models. The basic formulation of an autoregressive model is one where the next observation depends solely on the previous observations:\n",
    "$$y_{t+1} = \\beta_1 y_{t} + \\epsilon$$"
   ]
  },
  {
   "cell_type": "markdown",
   "id": "046952e8",
   "metadata": {},
   "source": [
    "In our example above, this just means we assume that the previous observation contains all the information we require in order to make a good prediction about the future. Autoregressive models use the series of ordered observations \n",
    "$$y_0, y_1, ..., y_i, ..., y_{t}$$\n",
    "to make new predictions $y_{t+1}$."
   ]
  },
  {
   "cell_type": "markdown",
   "id": "362bfce3",
   "metadata": {},
   "source": [
    "Let's see this in practice:"
   ]
  },
  {
   "cell_type": "code",
   "execution_count": 25,
   "id": "622a2693",
   "metadata": {},
   "outputs": [],
   "source": [
    "import pandas as pd\n",
    "import matplotlib.pyplot as plt"
   ]
  },
  {
   "cell_type": "code",
   "execution_count": 26,
   "id": "c72f58cd",
   "metadata": {},
   "outputs": [],
   "source": [
    "df = pd.read_csv(\"sp500_stocks.csv\")"
   ]
  },
  {
   "cell_type": "code",
   "execution_count": 27,
   "id": "3c812aa0",
   "metadata": {},
   "outputs": [
    {
     "data": {
      "text/html": [
       "<div>\n",
       "<style scoped>\n",
       "    .dataframe tbody tr th:only-of-type {\n",
       "        vertical-align: middle;\n",
       "    }\n",
       "\n",
       "    .dataframe tbody tr th {\n",
       "        vertical-align: top;\n",
       "    }\n",
       "\n",
       "    .dataframe thead th {\n",
       "        text-align: right;\n",
       "    }\n",
       "</style>\n",
       "<table border=\"1\" class=\"dataframe\">\n",
       "  <thead>\n",
       "    <tr style=\"text-align: right;\">\n",
       "      <th></th>\n",
       "      <th>Date</th>\n",
       "      <th>Symbol</th>\n",
       "      <th>Adj Close</th>\n",
       "      <th>Close</th>\n",
       "      <th>High</th>\n",
       "      <th>Low</th>\n",
       "      <th>Open</th>\n",
       "      <th>Volume</th>\n",
       "    </tr>\n",
       "  </thead>\n",
       "  <tbody>\n",
       "    <tr>\n",
       "      <th>83694</th>\n",
       "      <td>2010-01-04 00:00:00-05:00</td>\n",
       "      <td>AMZN</td>\n",
       "      <td>6.6950</td>\n",
       "      <td>6.6950</td>\n",
       "      <td>6.8305</td>\n",
       "      <td>6.6570</td>\n",
       "      <td>6.8125</td>\n",
       "      <td>151998000.0</td>\n",
       "    </tr>\n",
       "    <tr>\n",
       "      <th>83695</th>\n",
       "      <td>2010-01-05 00:00:00-05:00</td>\n",
       "      <td>AMZN</td>\n",
       "      <td>6.7345</td>\n",
       "      <td>6.7345</td>\n",
       "      <td>6.7740</td>\n",
       "      <td>6.5905</td>\n",
       "      <td>6.6715</td>\n",
       "      <td>177038000.0</td>\n",
       "    </tr>\n",
       "    <tr>\n",
       "      <th>83696</th>\n",
       "      <td>2010-01-06 00:00:00-05:00</td>\n",
       "      <td>AMZN</td>\n",
       "      <td>6.6125</td>\n",
       "      <td>6.6125</td>\n",
       "      <td>6.7365</td>\n",
       "      <td>6.5825</td>\n",
       "      <td>6.7300</td>\n",
       "      <td>143576000.0</td>\n",
       "    </tr>\n",
       "    <tr>\n",
       "      <th>83697</th>\n",
       "      <td>2010-01-07 00:00:00-05:00</td>\n",
       "      <td>AMZN</td>\n",
       "      <td>6.5000</td>\n",
       "      <td>6.5000</td>\n",
       "      <td>6.6160</td>\n",
       "      <td>6.4400</td>\n",
       "      <td>6.6005</td>\n",
       "      <td>220604000.0</td>\n",
       "    </tr>\n",
       "    <tr>\n",
       "      <th>83698</th>\n",
       "      <td>2010-01-08 00:00:00-05:00</td>\n",
       "      <td>AMZN</td>\n",
       "      <td>6.6760</td>\n",
       "      <td>6.6760</td>\n",
       "      <td>6.6840</td>\n",
       "      <td>6.4515</td>\n",
       "      <td>6.5280</td>\n",
       "      <td>196610000.0</td>\n",
       "    </tr>\n",
       "  </tbody>\n",
       "</table>\n",
       "</div>"
      ],
      "text/plain": [
       "                            Date Symbol  Adj Close   Close    High     Low  \\\n",
       "83694  2010-01-04 00:00:00-05:00   AMZN     6.6950  6.6950  6.8305  6.6570   \n",
       "83695  2010-01-05 00:00:00-05:00   AMZN     6.7345  6.7345  6.7740  6.5905   \n",
       "83696  2010-01-06 00:00:00-05:00   AMZN     6.6125  6.6125  6.7365  6.5825   \n",
       "83697  2010-01-07 00:00:00-05:00   AMZN     6.5000  6.5000  6.6160  6.4400   \n",
       "83698  2010-01-08 00:00:00-05:00   AMZN     6.6760  6.6760  6.6840  6.4515   \n",
       "\n",
       "         Open       Volume  \n",
       "83694  6.8125  151998000.0  \n",
       "83695  6.6715  177038000.0  \n",
       "83696  6.7300  143576000.0  \n",
       "83697  6.6005  220604000.0  \n",
       "83698  6.5280  196610000.0  "
      ]
     },
     "execution_count": 27,
     "metadata": {},
     "output_type": "execute_result"
    }
   ],
   "source": [
    "df_amzn = df[df['Symbol']=='AMZN']\n",
    "df_amzn.head()"
   ]
  },
  {
   "cell_type": "code",
   "execution_count": 4,
   "id": "b3f9d0aa",
   "metadata": {},
   "outputs": [
    {
     "data": {
      "image/png": "[encoded data removed]",
      "text/plain": [
       "<Figure size 432x288 with 1 Axes>"
      ]
     },
     "metadata": {
      "needs_background": "light"
     },
     "output_type": "display_data"
    }
   ],
   "source": [
    "plt.plot(df_amzn['Date'], df_amzn['Close'], 'b.')\n",
    "plt.xlabel('Date')\n",
    "plt.ylabel('Close Price ($)')\n",
    "plt.show()"
   ]
  },
  {
   "cell_type": "markdown",
   "id": "64cd7d6c",
   "metadata": {},
   "source": [
    "Autoregressive models give us a new framework to make predictions. We just want to use the past information to predict the future. Let's take the most naive approach first where we just say that tomorrow will look like today."
   ]
  },
  {
   "cell_type": "code",
   "execution_count": 5,
   "id": "dd030da1",
   "metadata": {},
   "outputs": [
    {
     "name": "stderr",
     "output_type": "stream",
     "text": [
      "/var/folders/6p/vpcv2sx57sg04vs430_8y4ch0000gp/T/ipykernel_64140/1652638578.py:1: SettingWithCopyWarning: \n",
      "A value is trying to be set on a copy of a slice from a DataFrame.\n",
      "Try using .loc[row_indexer,col_indexer] = value instead\n",
      "\n",
      "See the caveats in the documentation: https://pandas.pydata.org/pandas-docs/stable/user_guide/indexing.html#returning-a-view-versus-a-copy\n",
      "  df_amzn['LagClose'] = df_amzn['Close'].shift(1)\n",
      "/var/folders/6p/vpcv2sx57sg04vs430_8y4ch0000gp/T/ipykernel_64140/1652638578.py:2: SettingWithCopyWarning: \n",
      "A value is trying to be set on a copy of a slice from a DataFrame.\n",
      "Try using .loc[row_indexer,col_indexer] = value instead\n",
      "\n",
      "See the caveats in the documentation: https://pandas.pydata.org/pandas-docs/stable/user_guide/indexing.html#returning-a-view-versus-a-copy\n",
      "  df_amzn['Residual'] = df_amzn['LagClose'] - df_amzn['Close']\n"
     ]
    },
    {
     "data": {
      "text/html": [
       "<div>\n",
       "<style scoped>\n",
       "    .dataframe tbody tr th:only-of-type {\n",
       "        vertical-align: middle;\n",
       "    }\n",
       "\n",
       "    .dataframe tbody tr th {\n",
       "        vertical-align: top;\n",
       "    }\n",
       "\n",
       "    .dataframe thead th {\n",
       "        text-align: right;\n",
       "    }\n",
       "</style>\n",
       "<table border=\"1\" class=\"dataframe\">\n",
       "  <thead>\n",
       "    <tr style=\"text-align: right;\">\n",
       "      <th></th>\n",
       "      <th>Date</th>\n",
       "      <th>Symbol</th>\n",
       "      <th>Adj Close</th>\n",
       "      <th>Close</th>\n",
       "      <th>High</th>\n",
       "      <th>Low</th>\n",
       "      <th>Open</th>\n",
       "      <th>Volume</th>\n",
       "      <th>LagClose</th>\n",
       "      <th>Residual</th>\n",
       "    </tr>\n",
       "  </thead>\n",
       "  <tbody>\n",
       "    <tr>\n",
       "      <th>83694</th>\n",
       "      <td>2010-01-04 00:00:00-05:00</td>\n",
       "      <td>AMZN</td>\n",
       "      <td>6.6950</td>\n",
       "      <td>6.6950</td>\n",
       "      <td>6.8305</td>\n",
       "      <td>6.6570</td>\n",
       "      <td>6.8125</td>\n",
       "      <td>151998000.0</td>\n",
       "      <td>NaN</td>\n",
       "      <td>NaN</td>\n",
       "    </tr>\n",
       "    <tr>\n",
       "      <th>83695</th>\n",
       "      <td>2010-01-05 00:00:00-05:00</td>\n",
       "      <td>AMZN</td>\n",
       "      <td>6.7345</td>\n",
       "      <td>6.7345</td>\n",
       "      <td>6.7740</td>\n",
       "      <td>6.5905</td>\n",
       "      <td>6.6715</td>\n",
       "      <td>177038000.0</td>\n",
       "      <td>6.6950</td>\n",
       "      <td>-0.0395</td>\n",
       "    </tr>\n",
       "    <tr>\n",
       "      <th>83696</th>\n",
       "      <td>2010-01-06 00:00:00-05:00</td>\n",
       "      <td>AMZN</td>\n",
       "      <td>6.6125</td>\n",
       "      <td>6.6125</td>\n",
       "      <td>6.7365</td>\n",
       "      <td>6.5825</td>\n",
       "      <td>6.7300</td>\n",
       "      <td>143576000.0</td>\n",
       "      <td>6.7345</td>\n",
       "      <td>0.1220</td>\n",
       "    </tr>\n",
       "    <tr>\n",
       "      <th>83697</th>\n",
       "      <td>2010-01-07 00:00:00-05:00</td>\n",
       "      <td>AMZN</td>\n",
       "      <td>6.5000</td>\n",
       "      <td>6.5000</td>\n",
       "      <td>6.6160</td>\n",
       "      <td>6.4400</td>\n",
       "      <td>6.6005</td>\n",
       "      <td>220604000.0</td>\n",
       "      <td>6.6125</td>\n",
       "      <td>0.1125</td>\n",
       "    </tr>\n",
       "    <tr>\n",
       "      <th>83698</th>\n",
       "      <td>2010-01-08 00:00:00-05:00</td>\n",
       "      <td>AMZN</td>\n",
       "      <td>6.6760</td>\n",
       "      <td>6.6760</td>\n",
       "      <td>6.6840</td>\n",
       "      <td>6.4515</td>\n",
       "      <td>6.5280</td>\n",
       "      <td>196610000.0</td>\n",
       "      <td>6.5000</td>\n",
       "      <td>-0.1760</td>\n",
       "    </tr>\n",
       "  </tbody>\n",
       "</table>\n",
       "</div>"
      ],
      "text/plain": [
       "                            Date Symbol  Adj Close   Close    High     Low  \\\n",
       "83694  2010-01-04 00:00:00-05:00   AMZN     6.6950  6.6950  6.8305  6.6570   \n",
       "83695  2010-01-05 00:00:00-05:00   AMZN     6.7345  6.7345  6.7740  6.5905   \n",
       "83696  2010-01-06 00:00:00-05:00   AMZN     6.6125  6.6125  6.7365  6.5825   \n",
       "83697  2010-01-07 00:00:00-05:00   AMZN     6.5000  6.5000  6.6160  6.4400   \n",
       "83698  2010-01-08 00:00:00-05:00   AMZN     6.6760  6.6760  6.6840  6.4515   \n",
       "\n",
       "         Open       Volume  LagClose  Residual  \n",
       "83694  6.8125  151998000.0       NaN       NaN  \n",
       "83695  6.6715  177038000.0    6.6950   -0.0395  \n",
       "83696  6.7300  143576000.0    6.7345    0.1220  \n",
       "83697  6.6005  220604000.0    6.6125    0.1125  \n",
       "83698  6.5280  196610000.0    6.5000   -0.1760  "
      ]
     },
     "execution_count": 5,
     "metadata": {},
     "output_type": "execute_result"
    }
   ],
   "source": [
    "df_amzn['LagClose'] = df_amzn['Close'].shift(1)\n",
    "df_amzn['Residual'] = df_amzn['LagClose'] - df_amzn['Close']\n",
    "df_amzn.head()"
   ]
  },
  {
   "cell_type": "code",
   "execution_count": 6,
   "id": "4e84fd94",
   "metadata": {},
   "outputs": [
    {
     "data": {
      "image/png": "[encoded data removed]",
      "text/plain": [
       "<Figure size 432x288 with 1 Axes>"
      ]
     },
     "metadata": {
      "needs_background": "light"
     },
     "output_type": "display_data"
    }
   ],
   "source": [
    "plt.plot(df_amzn['Date'], df_amzn['Residual'], 'r.')\n",
    "plt.xlabel('Date')\n",
    "plt.ylabel('Residual')\n",
    "plt.show()"
   ]
  },
  {
   "cell_type": "markdown",
   "id": "0692ccbc",
   "metadata": {},
   "source": [
    "Based on the residuals it looks like yesterday is a pretty good approximation of today. Can you see a problem with this approach though?"
   ]
  },
  {
   "cell_type": "markdown",
   "id": "c67c6197",
   "metadata": {},
   "source": [
    "What if we need to forecast an entire month into the future?"
   ]
  },
  {
   "cell_type": "markdown",
   "id": "55553afc",
   "metadata": {},
   "source": [
    "When our observations run out, we will predict based on the previous prediction. In this case, we will continue to say yesterday's value should be the prediction. We'll just predict a single value!"
   ]
  },
  {
   "cell_type": "markdown",
   "id": "c17aba7f",
   "metadata": {},
   "source": [
    "What ideas do you have to fix this issue?"
   ]
  },
  {
   "cell_type": "markdown",
   "id": "41b09170",
   "metadata": {},
   "source": [
    "<h2>Moving Average</h2>"
   ]
  },
  {
   "cell_type": "markdown",
   "id": "3efb6c9d",
   "metadata": {},
   "source": [
    "One way to encode more information into the signal is to look further back in time:\n",
    "$$y_{t+1} = \\beta_0+\\beta_1 y_t + \\beta_2 y_{t-1}$$"
   ]
  },
  {
   "cell_type": "markdown",
   "id": "8b5f25db",
   "metadata": {},
   "source": [
    "In this way we are saying that the signal tomorrow depends on the signal today AND the signal from yesterday."
   ]
  },
  {
   "cell_type": "markdown",
   "id": "4790c72e",
   "metadata": {},
   "source": [
    "In fact, a common approach is to take an average of the previous two observations and use that as the prediction. Let's see this in action:"
   ]
  },
  {
   "cell_type": "code",
   "execution_count": 28,
   "id": "fe480ed8",
   "metadata": {},
   "outputs": [
    {
     "name": "stderr",
     "output_type": "stream",
     "text": [
      "/var/folders/6p/vpcv2sx57sg04vs430_8y4ch0000gp/T/ipykernel_64140/1489210664.py:1: SettingWithCopyWarning: \n",
      "A value is trying to be set on a copy of a slice from a DataFrame.\n",
      "Try using .loc[row_indexer,col_indexer] = value instead\n",
      "\n",
      "See the caveats in the documentation: https://pandas.pydata.org/pandas-docs/stable/user_guide/indexing.html#returning-a-view-versus-a-copy\n",
      "  df_amzn['RollingAverage'] = df_amzn['Close'].rolling(2).mean()\n",
      "/var/folders/6p/vpcv2sx57sg04vs430_8y4ch0000gp/T/ipykernel_64140/1489210664.py:2: SettingWithCopyWarning: \n",
      "A value is trying to be set on a copy of a slice from a DataFrame.\n",
      "Try using .loc[row_indexer,col_indexer] = value instead\n",
      "\n",
      "See the caveats in the documentation: https://pandas.pydata.org/pandas-docs/stable/user_guide/indexing.html#returning-a-view-versus-a-copy\n",
      "  df_amzn['ResidualRA'] = df_amzn['RollingAverage'] - df_amzn['Close']\n"
     ]
    },
    {
     "data": {
      "text/html": [
       "<div>\n",
       "<style scoped>\n",
       "    .dataframe tbody tr th:only-of-type {\n",
       "        vertical-align: middle;\n",
       "    }\n",
       "\n",
       "    .dataframe tbody tr th {\n",
       "        vertical-align: top;\n",
       "    }\n",
       "\n",
       "    .dataframe thead th {\n",
       "        text-align: right;\n",
       "    }\n",
       "</style>\n",
       "<table border=\"1\" class=\"dataframe\">\n",
       "  <thead>\n",
       "    <tr style=\"text-align: right;\">\n",
       "      <th></th>\n",
       "      <th>Date</th>\n",
       "      <th>Symbol</th>\n",
       "      <th>Adj Close</th>\n",
       "      <th>Close</th>\n",
       "      <th>High</th>\n",
       "      <th>Low</th>\n",
       "      <th>Open</th>\n",
       "      <th>Volume</th>\n",
       "      <th>RollingAverage</th>\n",
       "      <th>ResidualRA</th>\n",
       "    </tr>\n",
       "  </thead>\n",
       "  <tbody>\n",
       "    <tr>\n",
       "      <th>83694</th>\n",
       "      <td>2010-01-04 00:00:00-05:00</td>\n",
       "      <td>AMZN</td>\n",
       "      <td>6.6950</td>\n",
       "      <td>6.6950</td>\n",
       "      <td>6.8305</td>\n",
       "      <td>6.6570</td>\n",
       "      <td>6.8125</td>\n",
       "      <td>151998000.0</td>\n",
       "      <td>NaN</td>\n",
       "      <td>NaN</td>\n",
       "    </tr>\n",
       "    <tr>\n",
       "      <th>83695</th>\n",
       "      <td>2010-01-05 00:00:00-05:00</td>\n",
       "      <td>AMZN</td>\n",
       "      <td>6.7345</td>\n",
       "      <td>6.7345</td>\n",
       "      <td>6.7740</td>\n",
       "      <td>6.5905</td>\n",
       "      <td>6.6715</td>\n",
       "      <td>177038000.0</td>\n",
       "      <td>6.71475</td>\n",
       "      <td>-0.01975</td>\n",
       "    </tr>\n",
       "    <tr>\n",
       "      <th>83696</th>\n",
       "      <td>2010-01-06 00:00:00-05:00</td>\n",
       "      <td>AMZN</td>\n",
       "      <td>6.6125</td>\n",
       "      <td>6.6125</td>\n",
       "      <td>6.7365</td>\n",
       "      <td>6.5825</td>\n",
       "      <td>6.7300</td>\n",
       "      <td>143576000.0</td>\n",
       "      <td>6.67350</td>\n",
       "      <td>0.06100</td>\n",
       "    </tr>\n",
       "    <tr>\n",
       "      <th>83697</th>\n",
       "      <td>2010-01-07 00:00:00-05:00</td>\n",
       "      <td>AMZN</td>\n",
       "      <td>6.5000</td>\n",
       "      <td>6.5000</td>\n",
       "      <td>6.6160</td>\n",
       "      <td>6.4400</td>\n",
       "      <td>6.6005</td>\n",
       "      <td>220604000.0</td>\n",
       "      <td>6.55625</td>\n",
       "      <td>0.05625</td>\n",
       "    </tr>\n",
       "    <tr>\n",
       "      <th>83698</th>\n",
       "      <td>2010-01-08 00:00:00-05:00</td>\n",
       "      <td>AMZN</td>\n",
       "      <td>6.6760</td>\n",
       "      <td>6.6760</td>\n",
       "      <td>6.6840</td>\n",
       "      <td>6.4515</td>\n",
       "      <td>6.5280</td>\n",
       "      <td>196610000.0</td>\n",
       "      <td>6.58800</td>\n",
       "      <td>-0.08800</td>\n",
       "    </tr>\n",
       "  </tbody>\n",
       "</table>\n",
       "</div>"
      ],
      "text/plain": [
       "                            Date Symbol  Adj Close   Close    High     Low  \\\n",
       "83694  2010-01-04 00:00:00-05:00   AMZN     6.6950  6.6950  6.8305  6.6570   \n",
       "83695  2010-01-05 00:00:00-05:00   AMZN     6.7345  6.7345  6.7740  6.5905   \n",
       "83696  2010-01-06 00:00:00-05:00   AMZN     6.6125  6.6125  6.7365  6.5825   \n",
       "83697  2010-01-07 00:00:00-05:00   AMZN     6.5000  6.5000  6.6160  6.4400   \n",
       "83698  2010-01-08 00:00:00-05:00   AMZN     6.6760  6.6760  6.6840  6.4515   \n",
       "\n",
       "         Open       Volume  RollingAverage  ResidualRA  \n",
       "83694  6.8125  151998000.0             NaN         NaN  \n",
       "83695  6.6715  177038000.0         6.71475    -0.01975  \n",
       "83696  6.7300  143576000.0         6.67350     0.06100  \n",
       "83697  6.6005  220604000.0         6.55625     0.05625  \n",
       "83698  6.5280  196610000.0         6.58800    -0.08800  "
      ]
     },
     "execution_count": 28,
     "metadata": {},
     "output_type": "execute_result"
    }
   ],
   "source": [
    "df_amzn['RollingAverage'] = df_amzn['Close'].rolling(2).mean()\n",
    "df_amzn['ResidualRA'] = df_amzn['RollingAverage'] - df_amzn['Close']\n",
    "df_amzn.head()"
   ]
  },
  {
   "cell_type": "code",
   "execution_count": 8,
   "id": "b39075c4",
   "metadata": {},
   "outputs": [
    {
     "data": {
      "image/png": "[encoded data removed]",
      "text/plain": [
       "<Figure size 432x288 with 1 Axes>"
      ]
     },
     "metadata": {
      "needs_background": "light"
     },
     "output_type": "display_data"
    }
   ],
   "source": [
    "plt.plot(df_amzn['Date'], df_amzn['ResidualRA'], 'r.')\n",
    "plt.xlabel('Date')\n",
    "plt.ylabel('Residual')\n",
    "plt.show()"
   ]
  },
  {
   "cell_type": "markdown",
   "id": "0d1cc9f8",
   "metadata": {},
   "source": [
    "In this example I used a window size of 2 which means I just used the average of the previous two observations. But we might be able to do better if we chose a larger window size."
   ]
  },
  {
   "cell_type": "code",
   "execution_count": 29,
   "id": "f77e36a0",
   "metadata": {},
   "outputs": [
    {
     "name": "stderr",
     "output_type": "stream",
     "text": [
      "/var/folders/6p/vpcv2sx57sg04vs430_8y4ch0000gp/T/ipykernel_64140/4225179133.py:1: SettingWithCopyWarning: \n",
      "A value is trying to be set on a copy of a slice from a DataFrame.\n",
      "Try using .loc[row_indexer,col_indexer] = value instead\n",
      "\n",
      "See the caveats in the documentation: https://pandas.pydata.org/pandas-docs/stable/user_guide/indexing.html#returning-a-view-versus-a-copy\n",
      "  df_amzn['RollingAverage_3'] = df_amzn['Close'].rolling(3).mean()\n",
      "/var/folders/6p/vpcv2sx57sg04vs430_8y4ch0000gp/T/ipykernel_64140/4225179133.py:2: SettingWithCopyWarning: \n",
      "A value is trying to be set on a copy of a slice from a DataFrame.\n",
      "Try using .loc[row_indexer,col_indexer] = value instead\n",
      "\n",
      "See the caveats in the documentation: https://pandas.pydata.org/pandas-docs/stable/user_guide/indexing.html#returning-a-view-versus-a-copy\n",
      "  df_amzn['RollingAverage_5'] = df_amzn['Close'].rolling(5).mean()\n",
      "/var/folders/6p/vpcv2sx57sg04vs430_8y4ch0000gp/T/ipykernel_64140/4225179133.py:3: SettingWithCopyWarning: \n",
      "A value is trying to be set on a copy of a slice from a DataFrame.\n",
      "Try using .loc[row_indexer,col_indexer] = value instead\n",
      "\n",
      "See the caveats in the documentation: https://pandas.pydata.org/pandas-docs/stable/user_guide/indexing.html#returning-a-view-versus-a-copy\n",
      "  df_amzn['RollingAverage_7'] = df_amzn['Close'].rolling(7).mean()\n",
      "/var/folders/6p/vpcv2sx57sg04vs430_8y4ch0000gp/T/ipykernel_64140/4225179133.py:4: SettingWithCopyWarning: \n",
      "A value is trying to be set on a copy of a slice from a DataFrame.\n",
      "Try using .loc[row_indexer,col_indexer] = value instead\n",
      "\n",
      "See the caveats in the documentation: https://pandas.pydata.org/pandas-docs/stable/user_guide/indexing.html#returning-a-view-versus-a-copy\n",
      "  df_amzn['RollingAverage_9'] = df_amzn['Close'].rolling(9).mean()\n",
      "/var/folders/6p/vpcv2sx57sg04vs430_8y4ch0000gp/T/ipykernel_64140/4225179133.py:5: SettingWithCopyWarning: \n",
      "A value is trying to be set on a copy of a slice from a DataFrame.\n",
      "Try using .loc[row_indexer,col_indexer] = value instead\n",
      "\n",
      "See the caveats in the documentation: https://pandas.pydata.org/pandas-docs/stable/user_guide/indexing.html#returning-a-view-versus-a-copy\n",
      "  df_amzn['RollingAverage_21'] = df_amzn['Close'].rolling(21).mean()\n"
     ]
    }
   ],
   "source": [
    "df_amzn['RollingAverage_3'] = df_amzn['Close'].rolling(3).mean()\n",
    "df_amzn['RollingAverage_5'] = df_amzn['Close'].rolling(5).mean()\n",
    "df_amzn['RollingAverage_7'] = df_amzn['Close'].rolling(7).mean()\n",
    "df_amzn['RollingAverage_9'] = df_amzn['Close'].rolling(9).mean()\n",
    "df_amzn['RollingAverage_21'] = df_amzn['Close'].rolling(21).mean()"
   ]
  },
  {
   "cell_type": "code",
   "execution_count": 10,
   "id": "9dc7bd00",
   "metadata": {},
   "outputs": [
    {
     "data": {
      "image/png": "[encoded data removed]",
      "text/plain": [
       "<Figure size 432x288 with 1 Axes>"
      ]
     },
     "metadata": {
      "needs_background": "light"
     },
     "output_type": "display_data"
    }
   ],
   "source": [
    "plt.plot(df_amzn['Date'], df_amzn['Close'], 'r.')\n",
    "plt.xlabel('Date')\n",
    "plt.ylabel('Close')\n",
    "plt.show()"
   ]
  },
  {
   "cell_type": "code",
   "execution_count": 11,
   "id": "e59395cf",
   "metadata": {},
   "outputs": [
    {
     "data": {
      "image/png": "[encoded data removed]",
      "text/plain": [
       "<Figure size 432x288 with 1 Axes>"
      ]
     },
     "metadata": {
      "needs_background": "light"
     },
     "output_type": "display_data"
    }
   ],
   "source": [
    "plt.plot(df_amzn['Date'], df_amzn['RollingAverage_21'], 'c.')\n",
    "plt.xlabel('Date')\n",
    "plt.ylabel('Close')\n",
    "plt.show()"
   ]
  },
  {
   "cell_type": "code",
   "execution_count": 30,
   "id": "37d348f6",
   "metadata": {},
   "outputs": [
    {
     "name": "stderr",
     "output_type": "stream",
     "text": [
      "/var/folders/6p/vpcv2sx57sg04vs430_8y4ch0000gp/T/ipykernel_64140/1618016001.py:1: SettingWithCopyWarning: \n",
      "A value is trying to be set on a copy of a slice from a DataFrame.\n",
      "Try using .loc[row_indexer,col_indexer] = value instead\n",
      "\n",
      "See the caveats in the documentation: https://pandas.pydata.org/pandas-docs/stable/user_guide/indexing.html#returning-a-view-versus-a-copy\n",
      "  df_amzn['Residual21'] = df_amzn['RollingAverage_21'] - df_amzn['Close']\n"
     ]
    },
    {
     "data": {
      "image/png": "[encoded data removed]",
      "text/plain": [
       "<Figure size 432x288 with 1 Axes>"
      ]
     },
     "metadata": {
      "needs_background": "light"
     },
     "output_type": "display_data"
    }
   ],
   "source": [
    "df_amzn['Residual21'] = df_amzn['RollingAverage_21'] - df_amzn['Close']\n",
    "plt.plot(df_amzn['Date'], df_amzn['Residual21'], 'c.')\n",
    "plt.xlabel('Date')\n",
    "plt.ylabel('Residual')\n",
    "plt.show()"
   ]
  },
  {
   "cell_type": "markdown",
   "id": "0a9ecd7f",
   "metadata": {},
   "source": [
    "The moving average acts as a kind of \"smoothing\" for the signal. Another way to think of it is estimating the \"Trend\" in the data. In fact, in time series decomposition a moving average is the starting point to estimate the trend, or how much the signal is changing in a linear way. Hopefully, this is suggested by the formula above."
   ]
  },
  {
   "cell_type": "markdown",
   "id": "ec653034",
   "metadata": {},
   "source": [
    "<h2>Time Series Decomposition</h2>"
   ]
  },
  {
   "cell_type": "markdown",
   "id": "82121c6b",
   "metadata": {},
   "source": [
    "What does it mean to have a \"Trend\" in our data?"
   ]
  },
  {
   "cell_type": "markdown",
   "id": "0a18ffeb",
   "metadata": {},
   "source": [
    "We are basically imagining that we could express the function decribing our observations as a sum (or product) of components that vary differently in time. \"Trend\" would be slowly varying (like slope) -- does our data increase or decrease over time. We could also have different components to our data that come from the signal changing at different rates. Let's look at an example:"
   ]
  },
  {
   "cell_type": "code",
   "execution_count": 31,
   "id": "3fc3f5e4",
   "metadata": {},
   "outputs": [
    {
     "data": {
      "text/html": [
       "<div>\n",
       "<style scoped>\n",
       "    .dataframe tbody tr th:only-of-type {\n",
       "        vertical-align: middle;\n",
       "    }\n",
       "\n",
       "    .dataframe tbody tr th {\n",
       "        vertical-align: top;\n",
       "    }\n",
       "\n",
       "    .dataframe thead th {\n",
       "        text-align: right;\n",
       "    }\n",
       "</style>\n",
       "<table border=\"1\" class=\"dataframe\">\n",
       "  <thead>\n",
       "    <tr style=\"text-align: right;\">\n",
       "      <th></th>\n",
       "      <th>x</th>\n",
       "      <th>y1</th>\n",
       "      <th>y2</th>\n",
       "      <th>y3</th>\n",
       "      <th>y4</th>\n",
       "      <th>y</th>\n",
       "    </tr>\n",
       "  </thead>\n",
       "  <tbody>\n",
       "    <tr>\n",
       "      <th>0</th>\n",
       "      <td>0.0</td>\n",
       "      <td>3.392379</td>\n",
       "      <td>0.411139</td>\n",
       "      <td>0.414707</td>\n",
       "      <td>0.552241</td>\n",
       "      <td>4.770465</td>\n",
       "    </tr>\n",
       "    <tr>\n",
       "      <th>1</th>\n",
       "      <td>0.1</td>\n",
       "      <td>3.336121</td>\n",
       "      <td>0.394125</td>\n",
       "      <td>0.679319</td>\n",
       "      <td>1.081820</td>\n",
       "      <td>5.491385</td>\n",
       "    </tr>\n",
       "    <tr>\n",
       "      <th>2</th>\n",
       "      <td>0.2</td>\n",
       "      <td>4.040703</td>\n",
       "      <td>0.491445</td>\n",
       "      <td>0.483209</td>\n",
       "      <td>1.601855</td>\n",
       "      <td>6.617213</td>\n",
       "    </tr>\n",
       "    <tr>\n",
       "      <th>3</th>\n",
       "      <td>0.3</td>\n",
       "      <td>3.676802</td>\n",
       "      <td>0.430770</td>\n",
       "      <td>0.352223</td>\n",
       "      <td>1.215794</td>\n",
       "      <td>5.675589</td>\n",
       "    </tr>\n",
       "    <tr>\n",
       "      <th>4</th>\n",
       "      <td>0.4</td>\n",
       "      <td>3.943072</td>\n",
       "      <td>0.226704</td>\n",
       "      <td>0.749977</td>\n",
       "      <td>1.024238</td>\n",
       "      <td>5.943991</td>\n",
       "    </tr>\n",
       "  </tbody>\n",
       "</table>\n",
       "</div>"
      ],
      "text/plain": [
       "     x        y1        y2        y3        y4         y\n",
       "0  0.0  3.392379  0.411139  0.414707  0.552241  4.770465\n",
       "1  0.1  3.336121  0.394125  0.679319  1.081820  5.491385\n",
       "2  0.2  4.040703  0.491445  0.483209  1.601855  6.617213\n",
       "3  0.3  3.676802  0.430770  0.352223  1.215794  5.675589\n",
       "4  0.4  3.943072  0.226704  0.749977  1.024238  5.943991"
      ]
     },
     "execution_count": 31,
     "metadata": {},
     "output_type": "execute_result"
    }
   ],
   "source": [
    "import numpy as np\n",
    "df = pd.DataFrame({\n",
    "    'x': np.arange(0,10,0.1),\n",
    "    'y1': np.arange(0,10,0.1)*0.5+3+np.random.random(len(np.arange(0,10,0.1))),\n",
    "    'y2': np.sin(np.arange(0,10,0.1)*0.2)+np.random.random(len(np.arange(0,10,0.1))),\n",
    "    'y3': np.sin(np.arange(0,10,0.1)*1)+np.random.random(len(np.arange(0,10,0.1))),\n",
    "    'y4': np.sin(np.arange(0,10,0.1)*5)+np.random.random(len(np.arange(0,10,0.1)))\n",
    "})\n",
    "df['y'] = df['y1']+df['y2']+df['y3']+df['y4']\n",
    "df.head()"
   ]
  },
  {
   "cell_type": "code",
   "execution_count": 32,
   "id": "f0f12d5c",
   "metadata": {},
   "outputs": [
    {
     "data": {
      "image/png": "[encoded data removed]",
      "text/plain": [
       "<Figure size 432x288 with 1 Axes>"
      ]
     },
     "metadata": {
      "needs_background": "light"
     },
     "output_type": "display_data"
    }
   ],
   "source": [
    "plt.plot(df['x'], df['y'], 'b.')\n",
    "plt.show()"
   ]
  },
  {
   "cell_type": "markdown",
   "id": "e2917696",
   "metadata": {},
   "source": [
    "What periods exist in this data?"
   ]
  },
  {
   "cell_type": "markdown",
   "id": "4e0fff1e",
   "metadata": {},
   "source": [
    "There is a linear trend and a number of different frequency components. The idea here is to express the remainder as a sum of the components:\n",
    "$$R = y - T - S_1 - S_2 - S_3 - ...$$\n",
    "\n",
    "where each of the $S_i$ is a component at a different period."
   ]
  },
  {
   "cell_type": "markdown",
   "id": "9f6ee266",
   "metadata": {},
   "source": [
    "Figuring out what each of the terms in this sum is pretty complicated but there has been a lot of progress made in estimating the periods such that you can now just import a package to do it for you.\n",
    "\n",
    "Because I constructed the signal I can deconstruct it as well to get $R$."
   ]
  },
  {
   "cell_type": "code",
   "execution_count": 33,
   "id": "9b507b9c",
   "metadata": {},
   "outputs": [
    {
     "data": {
      "text/html": [
       "<div>\n",
       "<style scoped>\n",
       "    .dataframe tbody tr th:only-of-type {\n",
       "        vertical-align: middle;\n",
       "    }\n",
       "\n",
       "    .dataframe tbody tr th {\n",
       "        vertical-align: top;\n",
       "    }\n",
       "\n",
       "    .dataframe thead th {\n",
       "        text-align: right;\n",
       "    }\n",
       "</style>\n",
       "<table border=\"1\" class=\"dataframe\">\n",
       "  <thead>\n",
       "    <tr style=\"text-align: right;\">\n",
       "      <th></th>\n",
       "      <th>x</th>\n",
       "      <th>y1</th>\n",
       "      <th>y2</th>\n",
       "      <th>y3</th>\n",
       "      <th>y4</th>\n",
       "      <th>y</th>\n",
       "      <th>R</th>\n",
       "    </tr>\n",
       "  </thead>\n",
       "  <tbody>\n",
       "    <tr>\n",
       "      <th>0</th>\n",
       "      <td>0.0</td>\n",
       "      <td>3.392379</td>\n",
       "      <td>0.411139</td>\n",
       "      <td>0.414707</td>\n",
       "      <td>0.552241</td>\n",
       "      <td>4.770465</td>\n",
       "      <td>7.770465</td>\n",
       "    </tr>\n",
       "    <tr>\n",
       "      <th>1</th>\n",
       "      <td>0.1</td>\n",
       "      <td>3.336121</td>\n",
       "      <td>0.394125</td>\n",
       "      <td>0.679319</td>\n",
       "      <td>1.081820</td>\n",
       "      <td>5.491385</td>\n",
       "      <td>7.842127</td>\n",
       "    </tr>\n",
       "    <tr>\n",
       "      <th>2</th>\n",
       "      <td>0.2</td>\n",
       "      <td>4.040703</td>\n",
       "      <td>0.491445</td>\n",
       "      <td>0.483209</td>\n",
       "      <td>1.601855</td>\n",
       "      <td>6.617213</td>\n",
       "      <td>8.437084</td>\n",
       "    </tr>\n",
       "    <tr>\n",
       "      <th>3</th>\n",
       "      <td>0.3</td>\n",
       "      <td>3.676802</td>\n",
       "      <td>0.430770</td>\n",
       "      <td>0.352223</td>\n",
       "      <td>1.215794</td>\n",
       "      <td>5.675589</td>\n",
       "      <td>7.172610</td>\n",
       "    </tr>\n",
       "    <tr>\n",
       "      <th>4</th>\n",
       "      <td>0.4</td>\n",
       "      <td>3.943072</td>\n",
       "      <td>0.226704</td>\n",
       "      <td>0.749977</td>\n",
       "      <td>1.024238</td>\n",
       "      <td>5.943991</td>\n",
       "      <td>7.365360</td>\n",
       "    </tr>\n",
       "  </tbody>\n",
       "</table>\n",
       "</div>"
      ],
      "text/plain": [
       "     x        y1        y2        y3        y4         y         R\n",
       "0  0.0  3.392379  0.411139  0.414707  0.552241  4.770465  7.770465\n",
       "1  0.1  3.336121  0.394125  0.679319  1.081820  5.491385  7.842127\n",
       "2  0.2  4.040703  0.491445  0.483209  1.601855  6.617213  8.437084\n",
       "3  0.3  3.676802  0.430770  0.352223  1.215794  5.675589  7.172610\n",
       "4  0.4  3.943072  0.226704  0.749977  1.024238  5.943991  7.365360"
      ]
     },
     "execution_count": 33,
     "metadata": {},
     "output_type": "execute_result"
    }
   ],
   "source": [
    "df['R'] = df['y'] - np.arange(0,10,0.1)*0.5+3 - np.sin(np.arange(0,10,0.1)*0.2) - np.sin(np.arange(0,10,0.1)*1) - np.sin(np.arange(0,10,0.1)*5)\n",
    "df.head()"
   ]
  },
  {
   "cell_type": "code",
   "execution_count": 34,
   "id": "bc6ba532",
   "metadata": {},
   "outputs": [
    {
     "data": {
      "image/png": "[encoded data removed]",
      "text/plain": [
       "<Figure size 432x288 with 1 Axes>"
      ]
     },
     "metadata": {
      "needs_background": "light"
     },
     "output_type": "display_data"
    }
   ],
   "source": [
    "plt.plot(df['x'], df['R'], 'b.')\n",
    "plt.show()"
   ]
  },
  {
   "cell_type": "markdown",
   "id": "639b1f55",
   "metadata": {},
   "source": [
    "This remainder is the signal that we might not be able to predict very reliably. But the components are signals that we might know (or can estimate) well and so we can produce an accurate forecast and then just add up the individual components."
   ]
  },
  {
   "cell_type": "markdown",
   "id": "c29c329d",
   "metadata": {},
   "source": [
    "<h2>Advanced Smoothing Techniques</h2>"
   ]
  },
  {
   "cell_type": "markdown",
   "id": "f1cc5cee",
   "metadata": {},
   "source": [
    "We saw that if we can smooth the signal it can help us to understand what is happening. But there was a big issue with our two approaches. Our first approach just used the most recent observation to predict the next. In averaging we treated every observation in the past the same.\n",
    "\n",
    "What if we want to put more focus on recent data?"
   ]
  },
  {
   "cell_type": "markdown",
   "id": "9fef59ab",
   "metadata": {},
   "source": [
    "One way to focus more on a subset of data is to introduce weights where the weight decreases as we go further back in time."
   ]
  },
  {
   "cell_type": "markdown",
   "id": "d0430b94",
   "metadata": {},
   "source": [
    "We can express this mathematically via exponential smoothing:\n",
    "$$y_{t+1} = \\alpha y_t + \\alpha(1-\\alpha)y_{t-1} + \\alpha(1-\\alpha)^2y_{t-2}+...$$"
   ]
  },
  {
   "cell_type": "markdown",
   "id": "98545027",
   "metadata": {},
   "source": [
    "where $\\alpha$ is the smoothing parameter that controls how fast the weights should decay -- or how much attention to pay to things in the past. A value of $\\alpha$ close to one means you pay the most attention to recent data. As $\\alpha$ gets smaller you start paying more attention to data in the past."
   ]
  },
  {
   "cell_type": "code",
   "execution_count": 41,
   "id": "53c77c67",
   "metadata": {},
   "outputs": [],
   "source": [
    "df_amzn['OUT'] = df_amzn['Close'].ewm(alpha=0.005).mean()"
   ]
  },
  {
   "cell_type": "code",
   "execution_count": 42,
   "id": "bb0ef899",
   "metadata": {},
   "outputs": [
    {
     "data": {
      "image/png": "[encoded data removed]",
      "text/plain": [
       "<Figure size 432x288 with 1 Axes>"
      ]
     },
     "metadata": {
      "needs_background": "light"
     },
     "output_type": "display_data"
    }
   ],
   "source": [
    "plt.plot(df_amzn['Date'], df_amzn['Close'], 'r.')\n",
    "plt.plot(df_amzn['Date'], df_amzn['OUT'], 'b.')\n",
    "plt.xlabel('Date')\n",
    "plt.ylabel('Close')\n",
    "plt.show()"
   ]
  },
  {
   "cell_type": "code",
   "execution_count": 43,
   "id": "7eb6920b",
   "metadata": {},
   "outputs": [
    {
     "data": {
      "image/png": "[encoded data removed]",
      "text/plain": [
       "<Figure size 432x288 with 1 Axes>"
      ]
     },
     "metadata": {
      "needs_background": "light"
     },
     "output_type": "display_data"
    }
   ],
   "source": [
    "df_amzn['RES'] = df_amzn['OUT'] - df_amzn['Close']\n",
    "plt.plot(df_amzn['Date'], df_amzn['RES'], 'b.')\n",
    "plt.xlabel('Date')\n",
    "plt.ylabel('Residual')\n",
    "plt.show()"
   ]
  },
  {
   "cell_type": "markdown",
   "id": "58765d8c",
   "metadata": {},
   "source": [
    "<h2>ARIMA</h2>"
   ]
  },
  {
   "cell_type": "markdown",
   "id": "08885475",
   "metadata": {},
   "source": [
    "While we have focused on explaining trends and seasonal components in the data, an ARIMA model instead focuses on autocorrelations."
   ]
  },
  {
   "cell_type": "markdown",
   "id": "6804e56e",
   "metadata": {},
   "source": [
    "We first need to introduce the idea of \"stationarity\". This is the opposite of everything we have talked about so far! \n",
    "\n",
    "A stationary time series is one whose observation at any given point in time does not change depending on when you observe it. There is no trend or seasonality. This would be $R$ in the decomposition we introduced before."
   ]
  },
  {
   "cell_type": "markdown",
   "id": "e5ae8487",
   "metadata": {},
   "source": [
    "The time series for Amazon stock price is non-stationary. There is a clear trend. However, we might be able to transform the time series to make it stationary. In fact, the residual we computed at the beginning of lecture should be stationary."
   ]
  },
  {
   "cell_type": "code",
   "execution_count": 18,
   "id": "c1799d97",
   "metadata": {},
   "outputs": [
    {
     "data": {
      "image/png": "[encoded data removed]",
      "text/plain": [
       "<Figure size 432x288 with 1 Axes>"
      ]
     },
     "metadata": {
      "needs_background": "light"
     },
     "output_type": "display_data"
    }
   ],
   "source": [
    "plt.plot(df_amzn['Date'], df_amzn['Residual'], 'r.')\n",
    "plt.show()"
   ]
  },
  {
   "cell_type": "markdown",
   "id": "a04b926f",
   "metadata": {},
   "source": [
    "The idea here is called differencing. By taking the difference of adjacent points we are effectively subtracting out the common parts (the trend because it contributes to each point the same amount)."
   ]
  },
  {
   "cell_type": "markdown",
   "id": "773d9844",
   "metadata": {},
   "source": [
    "We can further extend the idea of differencing to the seasonal components. If we take points separated by one period and subtract them we can remove the component."
   ]
  },
  {
   "cell_type": "markdown",
   "id": "44a3b52a",
   "metadata": {},
   "source": [
    "How do we know if a signal is stationary?"
   ]
  },
  {
   "cell_type": "markdown",
   "id": "0c2ce003",
   "metadata": {},
   "source": [
    "We want to test the hypothesis that the signal is stationary. There is a set of hypothesis tests called unit root tests that we can use.\n",
    "\n",
    "One such test is the KPSS test which we can apply to our data."
   ]
  },
  {
   "cell_type": "code",
   "execution_count": 19,
   "id": "3ed9df61",
   "metadata": {},
   "outputs": [
    {
     "name": "stderr",
     "output_type": "stream",
     "text": [
      "/Users/chris/opt/miniconda3/envs/teaching/lib/python3.8/site-packages/statsmodels/tsa/stattools.py:2018: InterpolationWarning: The test statistic is outside of the range of p-values available in the\n",
      "look-up table. The actual p-value is smaller than the p-value returned.\n",
      "\n",
      "  warnings.warn(\n"
     ]
    },
    {
     "data": {
      "text/plain": [
       "(1.5079876211233367,\n",
       " 0.01,\n",
       " 36,\n",
       " {'10%': 0.119, '5%': 0.146, '2.5%': 0.176, '1%': 0.216})"
      ]
     },
     "execution_count": 19,
     "metadata": {},
     "output_type": "execute_result"
    }
   ],
   "source": [
    "import statsmodels.api as sm\n",
    "\n",
    "#perform KPSS test\n",
    "sm.tsa.stattools.kpss(df_amzn['Close'].dropna(), regression='ct')"
   ]
  },
  {
   "cell_type": "code",
   "execution_count": 20,
   "id": "48901640",
   "metadata": {},
   "outputs": [
    {
     "name": "stderr",
     "output_type": "stream",
     "text": [
      "/Users/chris/opt/miniconda3/envs/teaching/lib/python3.8/site-packages/statsmodels/tsa/stattools.py:2022: InterpolationWarning: The test statistic is outside of the range of p-values available in the\n",
      "look-up table. The actual p-value is greater than the p-value returned.\n",
      "\n",
      "  warnings.warn(\n"
     ]
    },
    {
     "data": {
      "text/plain": [
       "(0.0890868316637839,\n",
       " 0.1,\n",
       " 3,\n",
       " {'10%': 0.119, '5%': 0.146, '2.5%': 0.176, '1%': 0.216})"
      ]
     },
     "execution_count": 20,
     "metadata": {},
     "output_type": "execute_result"
    }
   ],
   "source": [
    "sm.tsa.stattools.kpss(df_amzn['Residual'].dropna(), regression='ct')"
   ]
  },
  {
   "cell_type": "markdown",
   "id": "b92b0f98",
   "metadata": {},
   "source": [
    "Surprisingly this test suggests that the original signal was more stationary than the differenced one! What do you think that means?"
   ]
  },
  {
   "cell_type": "markdown",
   "id": "7914fff9",
   "metadata": {},
   "source": [
    "Once we have a stationary signal we can apply an autoregressive model. Autoregressive just means that the inputs to the model linear combinations of past values of the observation. As we've written before we express this as \n",
    "$$y_t = c + \\phi_1 y_{t-1} + \\phi y_{t-2} + ...$$\n",
    "\n",
    "we call this an $AR(p)$ model (autoregressive model of order $p$) where $p$ is how far back in time we go."
   ]
  },
  {
   "cell_type": "code",
   "execution_count": 23,
   "id": "5bd7c73f",
   "metadata": {},
   "outputs": [
    {
     "name": "stdout",
     "output_type": "stream",
     "text": [
      "86913    114.534820\n",
      "86914    114.509653\n",
      "86915    114.484498\n",
      "dtype: float64\n"
     ]
    },
    {
     "name": "stderr",
     "output_type": "stream",
     "text": [
      "/Users/chris/opt/miniconda3/envs/teaching/lib/python3.8/site-packages/statsmodels/tsa/base/tsa_model.py:834: ValueWarning: No supported index is available. Prediction results will be given with an integer index beginning at `start`.\n",
      "  return get_prediction_index(\n"
     ]
    }
   ],
   "source": [
    "from sktime.forecasting.arima import ARIMA\n",
    "forecaster = ARIMA(  \n",
    "    order=(1, 0, 0),\n",
    "    suppress_warnings=True)\n",
    "forecaster.fit(df_amzn['Close'])\n",
    "y_pred = forecaster.predict(fh=[1,2,3]) \n",
    "print(y_pred)"
   ]
  },
  {
   "cell_type": "markdown",
   "id": "58fec398",
   "metadata": {},
   "source": [
    "We can also discuss moving average models (different from smoothing). Here we use the linear combination of the errors to make our predictions.\n",
    "$$y_t = c + \\psi_1 \\epsilon_{t-1} + ...$$"
   ]
  },
  {
   "cell_type": "code",
   "execution_count": 24,
   "id": "5db1d838",
   "metadata": {},
   "outputs": [
    {
     "name": "stdout",
     "output_type": "stream",
     "text": [
      "86913    71.459086\n",
      "86914    58.201484\n",
      "86915    58.201484\n",
      "dtype: float64\n"
     ]
    },
    {
     "name": "stderr",
     "output_type": "stream",
     "text": [
      "/Users/chris/opt/miniconda3/envs/teaching/lib/python3.8/site-packages/statsmodels/tsa/base/tsa_model.py:834: ValueWarning: No supported index is available. Prediction results will be given with an integer index beginning at `start`.\n",
      "  return get_prediction_index(\n"
     ]
    }
   ],
   "source": [
    "forecaster = ARIMA(  \n",
    "    order=(0, 0, 1),\n",
    "    suppress_warnings=True)\n",
    "forecaster.fit(df_amzn['Close'])\n",
    "y_pred = forecaster.predict(fh=[1,2,3]) \n",
    "print(y_pred)"
   ]
  },
  {
   "cell_type": "markdown",
   "id": "a3227d38",
   "metadata": {},
   "source": [
    "We note that there is a connection between the MA (moving average) and AR (autoregressive) parts. In fact, we can substitute values for one into the other."
   ]
  },
  {
   "cell_type": "markdown",
   "id": "4f0e35fc",
   "metadata": {},
   "source": [
    "When we combine both together we arrive at ARIMA models (Autoregressive integrated moving average) -- integration here refers to the amount of differencing we do. These models are specified by three parameters, $p$ the order of the AR part, $d$ the amount of differencing, and $q$ the order of the moving average part. Choosing the right parameters is incredibly important in order to get good forecasts."
   ]
  },
  {
   "cell_type": "markdown",
   "id": "8b100272",
   "metadata": {},
   "source": [
    "<h2>Special Consideration For Training Time Series Models</h2>"
   ]
  },
  {
   "cell_type": "markdown",
   "id": "9bcd172c",
   "metadata": {},
   "source": [
    "We must pay special attention to target leakage when we are training and cross-validating our models for time series data. Normally, we can choose any selection of data to build a fold for cross-validation. In a time series problem we must instead enforce time ordering. We should not use future data to predict things that took place in the past. You can think of this like leave one out cross-validation -- often called walk forward validation -- we construct folds in a time ordered way.\n",
    "\n",
    "We train on the past and predict on the future."
   ]
  },
  {
   "cell_type": "code",
   "execution_count": null,
   "id": "dcf548fc",
   "metadata": {},
   "outputs": [],
   "source": []
  }
 ],
 "metadata": {
  "kernelspec": {
   "display_name": "Python 3 (ipykernel)",
   "language": "python",
   "name": "python3"
  },
  "language_info": {
   "codemirror_mode": {
    "name": "ipython",
    "version": 3
   },
   "file_extension": ".py",
   "mimetype": "text/x-python",
   "name": "python",
   "nbconvert_exporter": "python",
   "pygments_lexer": "ipython3",
   "version": "3.8.13"
  }
 },
 "nbformat": 4,
 "nbformat_minor": 5
}
